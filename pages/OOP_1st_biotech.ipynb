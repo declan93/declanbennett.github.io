{
 "cells": [
  {
   "cell_type": "markdown",
   "metadata": {},
   "source": [
    "## Object orientated programming\n",
    "\n",
    "The aim of this workbook is to facilitate assignment 5.\n"
   ]
  },
  {
   "cell_type": "markdown",
   "metadata": {},
   "source": [
    "We will start by definining some terminology. <br><br>\n",
    "\n",
    "<font color=blue>**Class**</font><br>\n",
    "A `class` is a blue print for defining objects. It is important to understand that defining a class does not create an `object` directly, it only tells us what an `instance` of that class will look like. We can have as many instances of a class as we like. an object is an instance of a class and are used interchangeably <br><br>\n",
    "\n",
    "<font color=blue>**Method**</font><br>\n",
    "We can think of a `Method` in the same way we would a function. A `Method` performs an operation on our object. <br><br>\n",
    "\n",
    "<font color=blue>**Constructor**</font><br>\n",
    "A `constructor` is a special kind of method for initializing the object. The job of the constructor is to create a new object and set all its variables. The constructor method is defined by ```__init__```<br><br>\n",
    "\n",
    "<font color=blue>**Instance variables**</font><br>\n",
    "`Instance Variables` are variables that are attached to a particular object. They can be `strings`,  `integers`, `Lists`, `File objects` etc...<br><br>\n",
    "\n",
    "<font color=blue>**Self**</font><br>\n",
    "`Self` is how we refer to the object within the method\n"
   ]
  },
  {
   "cell_type": "markdown",
   "metadata": {},
   "source": [
    "Lets define two functions <br>\n",
    "1st) Get the AT content of a sequence of DNA <br>\n",
    "2nd) Reverse complement the sequence of DNA  "
   ]
  },
  {
   "cell_type": "code",
   "execution_count": 1,
   "metadata": {},
   "outputs": [],
   "source": [
    "def get_AT(dna): \n",
    "    length = len(dna)\n",
    "    a_count = float(dna.count('A'))\n",
    "    t_count = float(dna.count('T'))\n",
    "    at_content = ((a_count + t_count) / length)\n",
    "    return at_content\n",
    "\n",
    "def complement(dna): \n",
    "    complement = {'A': 'T', 'C': 'G', 'G': 'C', 'T': 'A'} # dictionary\n",
    "    return ''.join([complement[base] for base in dna[::-1]]) # list comprehension with string operation([::-1]) to read string from right to left\n"
   ]
  },
  {
   "cell_type": "code",
   "execution_count": 2,
   "metadata": {},
   "outputs": [
    {
     "name": "stdout",
     "output_type": "stream",
     "text": [
      "0.5652173913043478\n",
      "ATGACTCGTACGTAACGATCAGT\n"
     ]
    }
   ],
   "source": [
    "dna_sequence = \"ACTGATCGTTACGTACGAGTCAT\"\n",
    "print(get_AT(dna_sequence))\n",
    "print(complement(dna_sequence))"
   ]
  },
  {
   "cell_type": "markdown",
   "metadata": {},
   "source": [
    "Often we would like to attach metadata to our data. *i.e* our dna sequence might be a gene in a particular species "
   ]
  },
  {
   "cell_type": "code",
   "execution_count": 9,
   "metadata": {},
   "outputs": [
    {
     "name": "stdout",
     "output_type": "stream",
     "text": [
      "Looking at the Drosophila melanogaster ABC1 gene\n",
      "AT content is 0.5652173913043478\n",
      "complement is ATGACTCGTACGTAACGATCAGT \n"
     ]
    }
   ],
   "source": [
    "dna_sequence = \"ACTGATCGTTACGTACGAGTCAT\"\n",
    "species = \"Drosophila melanogaster (fruitfly)\"\n",
    "gene_name = \"ABC1\"\n",
    "print(\"Looking at the {} {} gene\".format(d1.species_name, d1.gene_name))\n",
    "print(\"AT content is {}\".format(get_AT(dna_sequence)))\n",
    "print(\"complement is {} \".format(complement(dna_sequence)))"
   ]
  },
  {
   "cell_type": "markdown",
   "metadata": {},
   "source": [
    "This is all well and good but if we have several 1000 genes and multiple species this way is no longer feasible. We could use a dictionary to store our data but dictionary keys need to be unique so this will not work.\n",
    "<br><br>\n",
    "It would be nice if we could put all of our information in one block like unit. We could define a complex data structure such as a list of dictionaries to do this but a better way would be to define a class and create distinct objects. <br> <br>\n",
    "We can see that the `contructor method` is defining **3** instance variables. "
   ]
  },
  {
   "cell_type": "code",
   "execution_count": 4,
   "metadata": {},
   "outputs": [
    {
     "name": "stdout",
     "output_type": "stream",
     "text": [
      "TATAATATAATAATATAT\n"
     ]
    }
   ],
   "source": [
    "class DNARecord(): \n",
    "    def __init__(self, sequence, gene_name, species_name):\n",
    "        self.sequence = sequence\n",
    "        self.gene_name = gene_name\n",
    "        self.species_name = species_name\n",
    "    \n",
    "    def complement(self):\n",
    "        comple = {'A': 'T', 'C': 'G', 'G': 'C', 'T': 'A'}\n",
    "        return ''.join([comple[base] for base in self.sequence[::-1]])\n",
    "    \n",
    "    def get_AT(self):\n",
    "        length = len(self.sequence)\n",
    "        a_count = float(self.sequence.count('A'))\n",
    "        t_count = float(self.sequence.count('T'))\n",
    "        at_content = ((a_count + t_count) / length)\n",
    "        return at_content\n",
    "    \n",
    "\n",
    "d1 = DNARecord('ATATATTATTATATTATA', 'COX1', 'Homo sapiens')\n",
    "print(d1.complement()) \n",
    "    \n"
   ]
  },
  {
   "cell_type": "code",
   "execution_count": 8,
   "metadata": {},
   "outputs": [
    {
     "name": "stdout",
     "output_type": "stream",
     "text": [
      "Looking at the Drosophila melanogaster ABC1 gene\n",
      "AT content is 0.55\n",
      "complement is ACTCGTACGTAACGATCAGT\n",
      "Looking at the Drosophila melanogaster ABC1 gene\n",
      "AT content is 0.55\n",
      "complement is ACTCGTACGTAACGATCAGT\n"
     ]
    }
   ],
   "source": [
    "# imperative code (see lecture 19)\n",
    "dna_sequence = \"ACTGATCGTTACGTACGAGT\"\n",
    "species = \"Drosophila melanogaster\"\n",
    "gene_name = \"ABC1\"\n",
    "print(\"Looking at the {} {} gene\".format(species,gene_name))\n",
    "print(\"AT content is {}\".format(get_AT(dna_sequence)))\n",
    "print(\"complement is {}\".format(complement(dna_sequence)))\n",
    "\n",
    "# object oriented code\n",
    "d1 = DNARecord(\"ACTGATCGTTACGTACGAGT\", \"ABC1\", \"Drosophila melanogaster\")\n",
    "print(\"Looking at the {} {} gene\".format(d1.species_name, d1.gene_name))\n",
    "print(\"AT content is {}\".format(d1.get_AT()))\n",
    "print(\"complement is {}\".format(d1.complement()))"
   ]
  },
  {
   "cell_type": "markdown",
   "metadata": {},
   "source": [
    "The difference here is for the imperative code we have stored 3 bits of data separately and passed them to functions to get the answers we wanted. In the object orientated code we have packaged our 3 bits of data into an object and asked the object directly for what we were looking for. "
   ]
  },
  {
   "cell_type": "markdown",
   "metadata": {},
   "source": [
    "We can pass other values to each method defined in our class. These values can be `strings`, `lists` or even other `Objects` <br>\n",
    "Lets define a new method in our class that takes another object and compares the length of dna sequence between the 2 objects. "
   ]
  },
  {
   "cell_type": "code",
   "execution_count": 6,
   "metadata": {},
   "outputs": [],
   "source": [
    "class DNARecord():\n",
    "    def __init__(self, sequence, gene_name, species_name):\n",
    "        self.sequence = sequence\n",
    "        self.gene_name = gene_name\n",
    "        self.species_name = species_name\n",
    "    \n",
    "    def complement(self):\n",
    "        comple = {'A': 'T', 'C': 'G', 'G': 'C', 'T': 'A'}\n",
    "        return ''.join([comple[base] for base in self.sequence[::-1]])\n",
    "    \n",
    "    def get_AT(self):\n",
    "        length = len(self.sequence)\n",
    "        a_count = float(self.sequence.count('A'))\n",
    "        t_count = float(self.sequence.count('T'))\n",
    "        at_content = ((a_count + t_count) / length)\n",
    "        return at_content\n",
    "    \n",
    "    def comp_AT(self,other):\n",
    "        if len(self.sequence) == len(other.sequence):\n",
    "            return \"{} for species {} is equal to {} in {}\".format(self.gene_name, self.species_name, other.gene_name, other.species_name)\n",
    "        elif len(self.sequence) < len(other.sequence):\n",
    "            return \"{} for species {} is longer than {} in {}\".format(other.gene_name, other.species_name,self.gene_name, self.species_name)\n",
    "        elif len(self.sequence) > len(other.sequence):\n",
    "            return \"{} for species {} is longer than to {} in {}\".format(self.gene_name, self.species_name, other.gene_name, other.species_name)"
   ]
  },
  {
   "cell_type": "code",
   "execution_count": 7,
   "metadata": {},
   "outputs": [
    {
     "name": "stdout",
     "output_type": "stream",
     "text": [
      "ABC1 for species Drosophila melanogaster is equal to ABC1 in Drosophila melanogaster\n",
      "ABC1 for species Ba humbugi is longer than ABC1 in Drosophila melanogaster\n",
      "ABC1 for species Veni, vidi, vici is longer than ABC1 in Drosophila melanogaster\n",
      "ABC1 for species Ba humbugi is longer than to ABC1 in Drosophila melanogaster\n",
      "ABC1 for species Ba humbugi is longer than to ABC1 in Drosophila melanogaster\n",
      "ABC1 for species Veni, vidi, vici is longer than to ABC1 in Ba humbugi\n"
     ]
    }
   ],
   "source": [
    "d1 = DNARecord(\"ACTGATCGTTACGTACGAGT\", \"ABC1\", \"Drosophila melanogaster\")\n",
    "d2 = DNARecord(\"GCTACTGACATCGTTACCGTAGT\", \"ABC1\", \"Ba humbugi\")\n",
    "d3 = DNARecord(\"GCTTACACAGCTACTACGGGCAATAT\", \"ABC1\", \"Veni, vidi, vici\")\n",
    "print(d1.comp_AT(d1))\n",
    "print(d1.comp_AT(d2))\n",
    "print(d1.comp_AT(d3))\n",
    "print(d2.comp_AT(d1))\n",
    "print(d2.comp_AT(d1))\n",
    "print(d3.comp_AT(d2))\n"
   ]
  },
  {
   "cell_type": "code",
   "execution_count": null,
   "metadata": {},
   "outputs": [],
   "source": []
  }
 ],
 "metadata": {
  "kernelspec": {
   "display_name": "Python 3",
   "language": "python",
   "name": "python3"
  },
  "language_info": {
   "codemirror_mode": {
    "name": "ipython",
    "version": 3
   },
   "file_extension": ".py",
   "mimetype": "text/x-python",
   "name": "python",
   "nbconvert_exporter": "python",
   "pygments_lexer": "ipython3",
   "version": "3.7.0"
  }
 },
 "nbformat": 4,
 "nbformat_minor": 2
}
