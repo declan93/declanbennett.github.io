{
 "cells": [
  {
   "cell_type": "markdown",
   "metadata": {},
   "source": [
    "# Biologically relevant computing"
   ]
  },
  {
   "cell_type": "markdown",
   "metadata": {},
   "source": [
    "Programming allows us to perform tasks on data which would otherwise be infeasible. For example, calculating the GC content in a gene or genome of interest, deriving the protein sequence from a dna sequence. The most important concepts for computing these tasks are \n",
    "-  Reading and writing files \n",
    "-  For loops \n",
    "-  Conditional statements \n",
    "-  Basic data types E.g strings, lists, & dictionaries\n",
    "-  Functions\n",
    "-  regular expressions"
   ]
  },
  {
   "cell_type": "markdown",
   "metadata": {},
   "source": [
    "## Reading and Writing a file"
   ]
  },
  {
   "cell_type": "markdown",
   "metadata": {},
   "source": [
    "First lets make a file (seqs.txt) with 4 nucleotide exon sequences with a new line character at the end of each sequence.\n",
    "It's important to note that we assign a variable name to every object. There are certain names you should never use such as, str, list, file. These have special meanings in python and should never be used. "
   ]
  },
  {
   "cell_type": "markdown",
   "metadata": {},
   "source": [
    "### Writing"
   ]
  },
  {
   "cell_type": "code",
   "execution_count": 20,
   "metadata": {},
   "outputs": [],
   "source": [
    "seq1 = 'atgactagtgtcgatgcagctcagaatcctactcgtagcagactggatcgatcgagcagctggctgcgctatgctagtgattcgtcgataccccaatga\\n'\n",
    "seq2 = 'tcattcgcatgtaaacattgagctagcgccgtctctgcgcacggatgaatatgtatagtaacgaatggagcgcgtaagggacatctgcggaaagtgcat\\n'\n",
    "seq3 = 'tcattggggtatcgacgaatcactagcatagcgcagccagctgctcgatcgatccagtctgctacgagtaggattctgagctgcatcgacactagtcat\\n'\n",
    "seq4 = 'atgcactttccgcagatgtcccttacgcgctccattcgttactatacatattcatccgtgcgcagagacggcgctagctcaatgtttacatgcgaatga\\n'\n",
    "\n",
    "outfile  = open(\"seqs.txt\",\"w\")\n",
    "outfile.write(seq1)\n",
    "outfile.write(seq2)\n",
    "outfile.write(seq3)\n",
    "outfile.write(seq4)\n",
    "outfile.close()"
   ]
  },
  {
   "cell_type": "markdown",
   "metadata": {},
   "source": [
    "### Reading\n",
    "\n",
    "There are 3 different ways to 'read' data in python\n",
    "\n",
    "-  read\n",
    "-  readline\n",
    "-  readlines \n",
    "\n",
    "We will look at what the 3 different ways do"
   ]
  },
  {
   "cell_type": "code",
   "execution_count": 21,
   "metadata": {},
   "outputs": [
    {
     "name": "stdout",
     "output_type": "stream",
     "text": [
      "<type 'str'>\n",
      "atgactagtgtcgatgcagctcagaatcctactcgtagcagactggatcgatcgagcagctggctgcgctatgctagtgattcgtcgataccccaatga\n",
      "tcattcgcatgtaaacattgagctagcgccgtctctgcgcacggatgaatatgtatagtaacgaatggagcgcgtaagggacatctgcggaaagtgcat\n",
      "tcattggggtatcgacgaatcactagcatagcgcagccagctgctcgatcgatccagtctgctacgagtaggattctgagctgcatcgacactagtcat\n",
      "atgcactttccgcagatgtcccttacgcgctccattcgttactatacatattcatccgtgcgcagagacggcgctagctcaatgtttacatgcgaatga\n",
      "\n"
     ]
    }
   ],
   "source": [
    "file_connection = open(\"seqs.txt\",\"r\") # make connection to the file\n",
    "\n",
    "seqs = file_connection.read() # load all the data as one string which will be stored \\\\\n",
    "#                               in a variable name called seqs\n",
    "\n",
    "file_connection.close() # always close the connection to the file\n",
    "\n",
    "print(type(seqs))\n",
    "print(seqs)"
   ]
  },
  {
   "cell_type": "code",
   "execution_count": 22,
   "metadata": {},
   "outputs": [
    {
     "name": "stdout",
     "output_type": "stream",
     "text": [
      "<type 'str'>\n",
      "atgactagtgtcgatgcagctcagaatcctactcgtagcagactggatcgatcgagcagctggctgcgctatgctagtgattcgtcgataccccaatga\n",
      "\n",
      "tcattcgcatgtaaacattgagctagcgccgtctctgcgcacggatgaatatgtatagtaacgaatggagcgcgtaagggacatctgcggaaagtgcat\n",
      "\n"
     ]
    }
   ],
   "source": [
    "file_connection = open(\"seqs.txt\",\"r\")\n",
    "\n",
    "seqs1 = file_connection.readline() # load the data oneline at a time\n",
    "\n",
    "print(type(seqs1)) \n",
    "print(seqs1)\n",
    "\n",
    "seqs1 = file_connection.readline() # read second line \n",
    "print(seqs1)\n",
    "\n",
    "file_connection.close()"
   ]
  },
  {
   "cell_type": "code",
   "execution_count": 23,
   "metadata": {},
   "outputs": [
    {
     "name": "stdout",
     "output_type": "stream",
     "text": [
      "<type 'list'>\n",
      "['atgactagtgtcgatgcagctcagaatcctactcgtagcagactggatcgatcgagcagctggctgcgctatgctagtgattcgtcgataccccaatga\\n', 'tcattcgcatgtaaacattgagctagcgccgtctctgcgcacggatgaatatgtatagtaacgaatggagcgcgtaagggacatctgcggaaagtgcat\\n', 'tcattggggtatcgacgaatcactagcatagcgcagccagctgctcgatcgatccagtctgctacgagtaggattctgagctgcatcgacactagtcat\\n', 'atgcactttccgcagatgtcccttacgcgctccattcgttactatacatattcatccgtgcgcagagacggcgctagctcaatgtttacatgcgaatga\\n']\n"
     ]
    }
   ],
   "source": [
    "file_connection = open(\"seqs.txt\",\"r\")\n",
    "seqs2 = file_connection.readlines() # load each line of the file and store as a list of sequences\n",
    "file_connection.close()\n",
    "print(type(seqs2))\n",
    "print(seqs2)"
   ]
  },
  {
   "cell_type": "markdown",
   "metadata": {},
   "source": [
    "In most cases readlines() is the easiest to use as it allows us to read all the data as a list and easily perform iterations through the list."
   ]
  },
  {
   "cell_type": "markdown",
   "metadata": {},
   "source": [
    "## For loops \n",
    "In programming languages certain datatypes are iteratable, i,e we can toggle through each entry of the datatype. A list is one such type.\n",
    "\n",
    "Recall how we read the data using ```readlines()``` as a list called ```seqs2```\n",
    "\n",
    "The for loop allows to read and process the sequences one at a time in the order they appear in the list "
   ]
  },
  {
   "cell_type": "code",
   "execution_count": 24,
   "metadata": {},
   "outputs": [
    {
     "name": "stdout",
     "output_type": "stream",
     "text": [
      "Sequence 1\n",
      "atgactagtgtcgatgcagctcagaatcctactcgtagcagactggatcgatcgagcagctggctgcgctatgctagtgattcgtcgataccccaatga\n",
      "\n",
      "Sequence 2\n",
      "tcattcgcatgtaaacattgagctagcgccgtctctgcgcacggatgaatatgtatagtaacgaatggagcgcgtaagggacatctgcggaaagtgcat\n",
      "\n",
      "Sequence 3\n",
      "tcattggggtatcgacgaatcactagcatagcgcagccagctgctcgatcgatccagtctgctacgagtaggattctgagctgcatcgacactagtcat\n",
      "\n",
      "Sequence 4\n",
      "atgcactttccgcagatgtcccttacgcgctccattcgttactatacatattcatccgtgcgcagagacggcgctagctcaatgtttacatgcgaatga\n",
      "\n"
     ]
    }
   ],
   "source": [
    "counter = 0\n",
    "for seq_iter in seqs2:\n",
    "    counter += 1 # This is equal to counter = counter + 1\n",
    "    print(\"Sequence {}\".format(counter)) # insert integer into string recall strings are immutable\n",
    "    print(seq_iter)"
   ]
  },
  {
   "cell_type": "markdown",
   "metadata": {},
   "source": [
    "## Conditional statements\n",
    "\n",
    "Often in programming we only want to perform a task if some conditions are met. This can be anything from a variable being equal to some value or object, some mathematical operation being true which we will see later on. "
   ]
  },
  {
   "cell_type": "code",
   "execution_count": 25,
   "metadata": {},
   "outputs": [
    {
     "name": "stdout",
     "output_type": "stream",
     "text": [
      "seqs 2 true\n",
      "seqs 3 false\n",
      "seqs 3 false\n"
     ]
    }
   ],
   "source": [
    "# if / if not\n",
    "if seqs2:\n",
    "    print(\"seqs 2 true\")\n",
    "if not seqs2:\n",
    "    print(\"seqs 2 false\")\n",
    "\n",
    "# when false\n",
    "seqs3 = None\n",
    "\n",
    "if seqs3:\n",
    "    print(\"seqs 3 true\")\n",
    "if not seqs3:\n",
    "    print(\"seqs 3 false\")\n",
    "    \n",
    "# We can rewrite these statements together using else:\n",
    "if seqs3:\n",
    "    print(\"seqs 3 true\")\n",
    "else:\n",
    "    print(\"seqs 3 false\")\n"
   ]
  },
  {
   "cell_type": "markdown",
   "metadata": {},
   "source": [
    "Often what we are looking for does not have a true or false outcome in these situations we can use elif \"else if\"\n",
    "\n"
   ]
  },
  {
   "cell_type": "code",
   "execution_count": 26,
   "metadata": {},
   "outputs": [
    {
     "name": "stdout",
     "output_type": "stream",
     "text": [
      "divisible by 3\n"
     ]
    }
   ],
   "source": [
    "if 9%2 == 0:\n",
    "    print(\"divisible by 2\")\n",
    "elif 9%3 == 0:\n",
    "    print(\"divisible by 3\")\n",
    "else:\n",
    "    print(\"Not divisible by 2 or 3\")\n"
   ]
  },
  {
   "cell_type": "markdown",
   "metadata": {},
   "source": [
    "we can also chain statements together using boolean logic (AND OR NOT)\n"
   ]
  },
  {
   "cell_type": "code",
   "execution_count": 27,
   "metadata": {},
   "outputs": [
    {
     "name": "stdout",
     "output_type": "stream",
     "text": [
      "multiple factors\n",
      "divisible by 7 or 3\n"
     ]
    }
   ],
   "source": [
    "if 12%2 == 0 and 12%3 == 0:\n",
    "    print(\"multiple factors\")\n",
    "else:\n",
    "    print(\"not divisible by 2 and 3\")\n",
    "\n",
    "if 14%7 == 0 or 14%3 == 0:\n",
    "    print(\"divisible by 7 or 3\")\n",
    "else:\n",
    "    print(\"not divisible by 7 or 3\")\n"
   ]
  },
  {
   "cell_type": "markdown",
   "metadata": {},
   "source": [
    "we can also negate these terms\n"
   ]
  },
  {
   "cell_type": "code",
   "execution_count": 28,
   "metadata": {},
   "outputs": [
    {
     "name": "stdout",
     "output_type": "stream",
     "text": [
      "not divisible by 2\n",
      "divisible by 2 and 3\n",
      "not multiple factors\n"
     ]
    }
   ],
   "source": [
    "if not 9%2 == 0:\n",
    "    print(\"not divisible by 2\")\n",
    "elif not 9%3 == 0:\n",
    "    print(\"not divisible by 3\")\n",
    "else:\n",
    "    print(\"divisible by 2 or 3\")\n",
    "\n",
    "###\n",
    "if not 12%2 == 0 and not 12%3 == 0:\n",
    "    print(\"not multiple factors\")\n",
    "else:\n",
    "    print(\"divisible by 2 and 3\")\n",
    "\n",
    "###\n",
    "if not 14%7 == 0 or not 14%3 == 0:\n",
    "    print(\"not multiple factors\")\n",
    "else:\n",
    "    print(\"divisible by 7 or 3\")"
   ]
  },
  {
   "cell_type": "code",
   "execution_count": 29,
   "metadata": {},
   "outputs": [
    {
     "name": "stdout",
     "output_type": "stream",
     "text": [
      "(10, 94754865456352)\n",
      "(10, 94754865456352)\n",
      "('10', 140267934434288)\n"
     ]
    }
   ],
   "source": [
    "test = 10\n",
    "test1 = 100//10\n",
    "test2 = str(10)\n",
    "print(test, id(test))\n",
    "print(test1, id(test1))\n",
    "print(test2, id(test2))"
   ]
  },
  {
   "cell_type": "markdown",
   "metadata": {},
   "source": [
    "# Dictionaries"
   ]
  },
  {
   "cell_type": "markdown",
   "metadata": {},
   "source": [
    "The central dogma states DNA -> mRNA -> Protein. This essentially means we can convert a string of dna sequence into its corresponding protein sequence. The easiest way to do this is to use a dictionary and some string processing. A dictionary is a datatype that holds a key, value pair. The key must be unique where the value can be any object. In our context we would choose the codon (triplet of dna encoding an amino acid) as our key and the amino acid as the value. The reason for this is multiple codons can code for an amino acid remember the key needs to be unique (TAT = Tyr & TAC = Tyr).     "
   ]
  },
  {
   "cell_type": "code",
   "execution_count": 30,
   "metadata": {},
   "outputs": [],
   "source": [
    "# a dictionary is defined using {} remember that [] = list, \"\"= string\n",
    "codons = {'aaa': 'K', 'aac': 'N', 'aag': 'K', 'aat': 'N', 'aca': 'T', 'acc': 'T',\n",
    " 'acg': 'T', 'act': 'T', 'aga': 'R', 'agc': 'S', 'agg': 'R', 'agt': 'S',\n",
    " 'ata': 'I', 'atc': 'I', 'atg': 'M', 'att': 'I', 'caa': 'Q', 'cac': 'H',\n",
    " 'cag': 'Q', 'cat': 'H', 'cca': 'P', 'ccc': 'P', 'ccg': 'P', 'cct': 'P', \n",
    " 'cga': 'R', 'cgc': 'R', 'cgg': 'R', 'cgt': 'R', 'cta': 'L', 'ctc': 'L',\n",
    " 'ctg': 'L', 'ctt': 'L', 'gaa': 'E', 'gac': 'D', 'gag': 'E', 'gat': 'D',\n",
    " 'gca': 'A', 'gcc': 'A', 'gcg': 'A', 'gct': 'A', 'gga': 'G', 'ggc': 'G',\n",
    " 'ggg': 'G', 'ggt': 'G', 'gta': 'V', 'gtc': 'V', 'gtg': 'V', 'gtt': 'V',\n",
    " 'taa': '*', 'tac': 'Y', 'tag': '*', 'tat': 'Y', 'tca': 'S', 'tcc': 'S',\n",
    " 'tcg': 'S', 'tct': 'S', 'tga': '*', 'tgc': 'C', 'tgg': 'W', 'tgt': 'C',\n",
    " 'tta': 'L', 'ttc': 'F', 'ttg': 'L', 'ttt': 'F'}"
   ]
  },
  {
   "cell_type": "markdown",
   "metadata": {},
   "source": [
    "Dictionaries have a very nice property that allows them to be iterated by key, value or key value together we will look at what I mean by this"
   ]
  },
  {
   "cell_type": "code",
   "execution_count": 31,
   "metadata": {},
   "outputs": [
    {
     "name": "stdout",
     "output_type": "stream",
     "text": [
      "['Y', 'C', 'G', 'S', 'F', 'C', '*', '*', 'Y', 'F', 'S', 'L', 'L', 'S', 'S', 'A', 'V', 'A', 'V', 'A', 'V', 'R', 'V', 'A', 'D', 'L', 'P', 'R', 'R', 'L', 'T', 'R', 'G', 'G', 'G', 'E', 'T', 'D', 'P', 'E', 'T', 'M', 'K', 'K', 'I', 'N', 'I', 'R', 'P', 'S', 'R', 'H', 'N', 'I', 'L', 'L', 'T', 'H', '*', 'Q', 'S', 'Q', 'P', 'W']\n"
     ]
    }
   ],
   "source": [
    "print(codons.values())"
   ]
  },
  {
   "cell_type": "code",
   "execution_count": 32,
   "metadata": {},
   "outputs": [
    {
     "name": "stdout",
     "output_type": "stream",
     "text": [
      "['tat', 'tgt', 'ggt', 'tct', 'ttt', 'tgc', 'tag', 'taa', 'tac', 'ttc', 'tcg', 'tta', 'ttg', 'tcc', 'tca', 'gca', 'gta', 'gcc', 'gtc', 'gcg', 'gtg', 'cgt', 'gtt', 'gct', 'gat', 'ctt', 'cct', 'cga', 'cgc', 'ctc', 'aca', 'cgg', 'ggg', 'gga', 'ggc', 'gag', 'acg', 'gac', 'ccg', 'gaa', 'acc', 'atg', 'aag', 'aaa', 'atc', 'aac', 'ata', 'agg', 'cca', 'agc', 'aga', 'cat', 'aat', 'att', 'ctg', 'cta', 'act', 'cac', 'tga', 'caa', 'agt', 'cag', 'ccc', 'tgg']\n"
     ]
    }
   ],
   "source": [
    "print(codons.keys())"
   ]
  },
  {
   "cell_type": "code",
   "execution_count": 33,
   "metadata": {},
   "outputs": [
    {
     "name": "stdout",
     "output_type": "stream",
     "text": [
      "[('tat', 'Y'), ('tgt', 'C'), ('ggt', 'G'), ('tct', 'S'), ('ttt', 'F'), ('tgc', 'C'), ('tag', '*'), ('taa', '*'), ('tac', 'Y'), ('ttc', 'F'), ('tcg', 'S'), ('tta', 'L'), ('ttg', 'L'), ('tcc', 'S'), ('tca', 'S'), ('gca', 'A'), ('gta', 'V'), ('gcc', 'A'), ('gtc', 'V'), ('gcg', 'A'), ('gtg', 'V'), ('cgt', 'R'), ('gtt', 'V'), ('gct', 'A'), ('gat', 'D'), ('ctt', 'L'), ('cct', 'P'), ('cga', 'R'), ('cgc', 'R'), ('ctc', 'L'), ('aca', 'T'), ('cgg', 'R'), ('ggg', 'G'), ('gga', 'G'), ('ggc', 'G'), ('gag', 'E'), ('acg', 'T'), ('gac', 'D'), ('ccg', 'P'), ('gaa', 'E'), ('acc', 'T'), ('atg', 'M'), ('aag', 'K'), ('aaa', 'K'), ('atc', 'I'), ('aac', 'N'), ('ata', 'I'), ('agg', 'R'), ('cca', 'P'), ('agc', 'S'), ('aga', 'R'), ('cat', 'H'), ('aat', 'N'), ('att', 'I'), ('ctg', 'L'), ('cta', 'L'), ('act', 'T'), ('cac', 'H'), ('tga', '*'), ('caa', 'Q'), ('agt', 'S'), ('cag', 'Q'), ('ccc', 'P'), ('tgg', 'W')]\n"
     ]
    }
   ],
   "source": [
    "print(codons.items())"
   ]
  },
  {
   "cell_type": "code",
   "execution_count": 34,
   "metadata": {},
   "outputs": [
    {
     "name": "stdout",
     "output_type": "stream",
     "text": [
      "found atg in dictionary\n",
      "\n",
      "found T in dictionary\n",
      "found T in dictionary\n",
      "found T in dictionary\n",
      "found T in dictionary\n",
      "The triplets encoding T are aca\n",
      "The triplets encoding T are acg\n",
      "The triplets encoding T are acc\n",
      "The triplets encoding T are act\n"
     ]
    }
   ],
   "source": [
    "for key in codons.keys():\n",
    "    if key ==\"atg\":\n",
    "        print(\"found {} in dictionary\\n\".format(key))\n",
    "        \n",
    "for value in codons.values():\n",
    "    if value == \"T\":\n",
    "        print(\"found {} in dictionary\".format(value))\n",
    "        \n",
    "for key,value in codons.items():\n",
    "    if value == \"T\":\n",
    "        print(\"The triplets encoding {} are {}\".format(value, key))"
   ]
  },
  {
   "cell_type": "markdown",
   "metadata": {},
   "source": [
    "We also need to perform some checks on our sequences. Is there a start triplet (ATG) present? Do we need to reverse complement our sequence? First we need to do some string processing. The string needs to be of length divisible by 3 ***!*** python indices begin at 0 "
   ]
  },
  {
   "cell_type": "code",
   "execution_count": 35,
   "metadata": {},
   "outputs": [
    {
     "name": "stdout",
     "output_type": "stream",
     "text": [
      "good\n",
      "good\n",
      "good\n",
      "good\n"
     ]
    }
   ],
   "source": [
    "for seq_iter in seqs2:\n",
    "    if len(seq_iter.strip())%3 == 0: # remember the string has a newline characrter\n",
    "        print(\"good\")"
   ]
  },
  {
   "cell_type": "markdown",
   "metadata": {},
   "source": [
    "Protein sequences at the dna level begin with '*atg*' "
   ]
  },
  {
   "cell_type": "code",
   "execution_count": 36,
   "metadata": {},
   "outputs": [
    {
     "name": "stdout",
     "output_type": "stream",
     "text": [
      "sequence 1 good \n",
      "reverse complement sequence 2\n",
      "reverse complement sequence 3\n",
      "sequence 4 good \n"
     ]
    }
   ],
   "source": [
    "counter = 0\n",
    "for seq_iter in seqs2:\n",
    "    counter += 1\n",
    "    if seq_iter.strip().startswith('atg'):\n",
    "        print(\"sequence {} good \".format(counter))\n",
    "    elif seq_iter.strip().endswith('cat'):\n",
    "        print(\"reverse complement sequence {}\".format(counter))"
   ]
  },
  {
   "cell_type": "markdown",
   "metadata": {},
   "source": [
    "Due to the double stranded nature of dna a sequence may be in the reverse complementary orientation ie 'atg' -> 'cat (a:t,c:g pairng with 5' and 3' direction switch). We can use a simple function to do this. We will look at functions later. The simple function uses string processing ```string[::-1]``` which reads the string from right to left, allowing all strings(dna sequences) to be orientated in the same direction 5' -> 3'. We also  use a for loop and a dictionary we can call the join function to convert the list back to a string. The for loop is inlist comprehension form."
   ]
  },
  {
   "cell_type": "code",
   "execution_count": 37,
   "metadata": {},
   "outputs": [
    {
     "data": {
      "text/plain": [
       "'cat'"
      ]
     },
     "execution_count": 37,
     "metadata": {},
     "output_type": "execute_result"
    }
   ],
   "source": [
    "def reverse_complement(dna):\n",
    "    complement = {'a': 't', 'c': 'g', 'g': 'c', 't': 'a'}\n",
    "    return ''.join([complement[base] for base in dna[::-1]])\n",
    "\n",
    "reverse_complement('atg')"
   ]
  },
  {
   "cell_type": "code",
   "execution_count": 38,
   "metadata": {},
   "outputs": [
    {
     "name": "stdout",
     "output_type": "stream",
     "text": [
      "['atgactagtgtcgatgcagctcagaatcctactcgtagcagactggatcgatcgagcagctggctgcgctatgctagtgattcgtcgataccccaatga\\n', 'tcattcgcatgtaaacattgagctagcgccgtctctgcgcacggatgaatatgtatagtaacgaatggagcgcgtaagggacatctgcggaaagtgcat\\n', 'tcattggggtatcgacgaatcactagcatagcgcagccagctgctcgatcgatccagtctgctacgagtaggattctgagctgcatcgacactagtcat\\n', 'atgcactttccgcagatgtcccttacgcgctccattcgttactatacatattcatccgtgcgcagagacggcgctagctcaatgtttacatgcgaatga\\n']\n",
      "['atgactagtgtcgatgcagctcagaatcctactcgtagcagactggatcgatcgagcagctggctgcgctatgctagtgattcgtcgataccccaatga', 'atgcactttccgcagatgtcccttacgcgctccattcgttactatacatattcatccgtgcgcagagacggcgctagctcaatgtttacatgcgaatga', 'atgactagtgtcgatgcagctcagaatcctactcgtagcagactggatcgatcgagcagctggctgcgctatgctagtgattcgtcgataccccaatga', 'atgcactttccgcagatgtcccttacgcgctccattcgttactatacatattcatccgtgcgcagagacggcgctagctcaatgtttacatgcgaatga']\n"
     ]
    }
   ],
   "source": [
    "seq_aligned = []\n",
    "for seq_iter in seqs2:\n",
    "    if seq_iter.strip().startswith('atg'):\n",
    "        seq_aligned.append(seq_iter.strip())\n",
    "    elif seq_iter.strip().endswith('cat'):\n",
    "        seq_aligned.append(reverse_complement(seq_iter.strip()))\n",
    "\n",
    "print(seqs2)\n",
    "print(seq_aligned) # newline characyer (\\n) removed and reverse complemented\n"
   ]
  },
  {
   "cell_type": "markdown",
   "metadata": {},
   "source": [
    "We will also want to break our dna sequence up into triple codons. We can do this by slicing our dna sequence string every 3 bases using ```string[pos:pos+3]``` and appending to a list called ```triplets```"
   ]
  },
  {
   "cell_type": "code",
   "execution_count": 39,
   "metadata": {},
   "outputs": [
    {
     "name": "stdout",
     "output_type": "stream",
     "text": [
      "['atg', 'act', 'agt', 'gtc', 'gat', 'gca', 'gct', 'cag', 'aat', 'cct', 'act', 'cgt', 'agc', 'aga', 'ctg', 'gat', 'cga', 'tcg', 'agc', 'agc', 'tgg', 'ctg', 'cgc', 'tat', 'gct', 'agt', 'gat', 'tcg', 'tcg', 'ata', 'ccc', 'caa', 'tga']\n",
      "['atg', 'cac', 'ttt', 'ccg', 'cag', 'atg', 'tcc', 'ctt', 'acg', 'cgc', 'tcc', 'att', 'cgt', 'tac', 'tat', 'aca', 'tat', 'tca', 'tcc', 'gtg', 'cgc', 'aga', 'gac', 'ggc', 'gct', 'agc', 'tca', 'atg', 'ttt', 'aca', 'tgc', 'gaa', 'tga']\n",
      "['atg', 'act', 'agt', 'gtc', 'gat', 'gca', 'gct', 'cag', 'aat', 'cct', 'act', 'cgt', 'agc', 'aga', 'ctg', 'gat', 'cga', 'tcg', 'agc', 'agc', 'tgg', 'ctg', 'cgc', 'tat', 'gct', 'agt', 'gat', 'tcg', 'tcg', 'ata', 'ccc', 'caa', 'tga']\n",
      "['atg', 'cac', 'ttt', 'ccg', 'cag', 'atg', 'tcc', 'ctt', 'acg', 'cgc', 'tcc', 'att', 'cgt', 'tac', 'tat', 'aca', 'tat', 'tca', 'tcc', 'gtg', 'cgc', 'aga', 'gac', 'ggc', 'gct', 'agc', 'tca', 'atg', 'ttt', 'aca', 'tgc', 'gaa', 'tga']\n"
     ]
    }
   ],
   "source": [
    "for seq_iter in seq_aligned:\n",
    "    triplets = []\n",
    "    for i in range(0, len(seq_iter), 3):\n",
    "        triplets.append(seq_iter[i:i+3])\n",
    "    print(triplets) "
   ]
  },
  {
   "cell_type": "markdown",
   "metadata": {},
   "source": [
    "We can directly use the above triplets to get the protein sequence by querying our dictionary as a look up table. *i.e* for this nucleotide triplet what is the corresponding amino acid."
   ]
  },
  {
   "cell_type": "code",
   "execution_count": 40,
   "metadata": {},
   "outputs": [
    {
     "name": "stdout",
     "output_type": "stream",
     "text": [
      "['MTSVDAAQNPTRSRLDRSSSWLRYASDSSIPQ*', 'MHFPQMSLTRSIRYYTYSSVRRDGASSMFTCE*', 'MTSVDAAQNPTRSRLDRSSSWLRYASDSSIPQ*', 'MHFPQMSLTRSIRYYTYSSVRRDGASSMFTCE*']\n"
     ]
    }
   ],
   "source": [
    "proteins_list = []\n",
    "\n",
    "for seq_iter in seq_aligned:\n",
    "    triplets = []\n",
    "    protein = []\n",
    "    for i in range(0, len(seq_iter), 3):\n",
    "        triplets.append(seq_iter[i:i+3])\n",
    "    for trip in triplets:\n",
    "        protein.append(codons[trip])\n",
    "    proteins_list.append(\"\".join(protein))\n",
    "\n",
    "print(proteins_list)     "
   ]
  },
  {
   "cell_type": "markdown",
   "metadata": {},
   "source": [
    "## Functions\n",
    "lets make a function that\n",
    "-  takes a file as input\n",
    "-  checks to see if the dna sequences begin with atg and end with a stop codon\n",
    "-  if no atg and end with a stop codon check reverse\n",
    "-  return a list of protein sequence\n",
    "\n"
   ]
  },
  {
   "cell_type": "code",
   "execution_count": 41,
   "metadata": {},
   "outputs": [
    {
     "name": "stdout",
     "output_type": "stream",
     "text": [
      "['MTSVDAAQNPTRSRLDRSSSWLRYASDSSIPQ*', 'MHFPQMSLTRSIRYYTYSSVRRDGASSMFTCE*', 'MTSVDAAQNPTRSRLDRSSSWLRYASDSSIPQ*', 'MHFPQMSLTRSIRYYTYSSVRRDGASSMFTCE*']\n"
     ]
    }
   ],
   "source": [
    "def reverse_complement(dna):\n",
    "    complement = {'a': 't', 'c': 'g', 'g': 'c', 't': 'a'}\n",
    "    return ''.join([complement[base] for base in dna[::-1]])\n",
    "\n",
    "def get_prot_seq(infile):\n",
    "    file_connection = open(infile,\"r\")\n",
    "    seqs2 = file_connection.readlines() \n",
    "    file_connection.close()\n",
    "    seq_aligned = []\n",
    "    proteins_list=[]\n",
    "    for seq_iter in seqs2:\n",
    "        if seq_iter.strip().startswith('atg') and seq_iter.strip().endswith('taa') or seq_iter.strip().endswith('tag') or seq_iter.strip().endswith('tga'):\n",
    "            seq_aligned.append(seq_iter.strip())\n",
    "        elif reverse_complement(seq_iter.strip()).startswith('atg') and reverse_complement(seq_iter.strip()).endswith('taa') or reverse_complement(seq_iter.strip()).endswith('tag') or reverse_complement(seq_iter.strip()).endswith('tga'):\n",
    "            seq_aligned.append(reverse_complement(seq_iter.strip()))\n",
    "        else:\n",
    "            continue # if a sequence doesnt begin with atg dont process\n",
    "    for seq_iter2 in seq_aligned:\n",
    "        triplets = []\n",
    "        protein = []\n",
    "        for i in range(0, len(seq_iter2), 3):\n",
    "            triplets.append(seq_iter2[i:i+3])\n",
    "        for trip in triplets:\n",
    "            protein.append(codons[trip])\n",
    "        proteins_list.append(\"\".join(protein))\n",
    "    return proteins_list\n",
    "\n",
    "\n",
    "proteins = get_prot_seq(\"seqs.txt\")\n",
    "\n",
    "print(proteins)"
   ]
  },
  {
   "cell_type": "markdown",
   "metadata": {},
   "source": [
    "## Regular Expressions\n",
    "\n",
    "Regular expressions or regex can be used to find strings that match a pattern. For a broader description and examples of regex go [here](http://www.maths.nuigalway.ie/~rossmann/cs103/). We will start by looking at a simplified examples and then a more typical biological scenario.\n"
   ]
  },
  {
   "cell_type": "markdown",
   "metadata": {},
   "source": [
    "An example of how regex are used is identifying sequences of dna where a protein is predicted to bind. E,g proteinX binds at *caga* sites in the genome.\n",
    "We can use re.search to find if a a pattern is contained in the dna string."
   ]
  },
  {
   "cell_type": "code",
   "execution_count": 42,
   "metadata": {
    "scrolled": true
   },
   "outputs": [
    {
     "name": "stdout",
     "output_type": "stream",
     "text": [
      "<_sre.SRE_Match object at 0x7f92ac69c440>\n",
      "<_sre.SRE_Match object at 0x7f92ac69c168>\n",
      "<_sre.SRE_Match object at 0x7f92ac69c440>\n",
      "<_sre.SRE_Match object at 0x7f92ac69c168>\n"
     ]
    }
   ],
   "source": [
    "import re \n",
    "for seq_iter2 in seq_aligned:\n",
    "    match = re.search('caga', seq_iter2)\n",
    "    print(match)"
   ]
  },
  {
   "cell_type": "code",
   "execution_count": 43,
   "metadata": {},
   "outputs": [
    {
     "name": "stdout",
     "output_type": "stream",
     "text": [
      "sequence 1 has match starting at 21 \n",
      "sequence 2 has match starting at 12 \n",
      "sequence 3 has match starting at 21 \n",
      "sequence 4 has match starting at 12 \n"
     ]
    }
   ],
   "source": [
    "counter = 0\n",
    "for seq_iter2 in seq_aligned:\n",
    "    counter += 1\n",
    "    match = re.search('caga', seq_iter2)\n",
    "    if match:\n",
    "        print(\"sequence {} has match starting at {} \".format(counter,match.start()))"
   ]
  },
  {
   "cell_type": "code",
   "execution_count": 44,
   "metadata": {},
   "outputs": [
    {
     "name": "stdout",
     "output_type": "stream",
     "text": [
      "AT run from 5 to 12\n",
      "AT run from 18 to 26\n"
     ]
    }
   ],
   "source": [
    "# count the number find regions of repetitive dinucleotides ATs  \n",
    "dna = \"ACTGCATTATATCGTACGAAATTATACGCGCG\"\n",
    "runs = re.finditer(r\"[AT]{4,50}\", dna)   \n",
    "for match in runs:\n",
    "    print(\"AT run from {} to {}\".format(match.start(),match.end()))"
   ]
  },
  {
   "cell_type": "code",
   "execution_count": 45,
   "metadata": {},
   "outputs": [
    {
     "name": "stdout",
     "output_type": "stream",
     "text": [
      "entire match: GACGTACGTAC\n",
      "first bit: CGT\n",
      "second bit: GT\n"
     ]
    }
   ],
   "source": [
    "# search GA, any 3 nuc, AC,any 2 nuc, AC\n",
    "dna = \"ATGACGTACGTACGACTG\"\n",
    "m = re.search(r\"GA([ATGC]{3})AC([ATGC]{2})AC\", dna)\n",
    "print(\"entire match: \" + m.group())\n",
    "print(\"first bit: \" + m.group(1))\n",
    "print(\"second bit: \" + m.group(2))"
   ]
  },
  {
   "cell_type": "code",
   "execution_count": 46,
   "metadata": {},
   "outputs": [
    {
     "name": "stdout",
     "output_type": "stream",
     "text": [
      "['A', 'T', 'GCGTG', 'ACT', '']\n",
      "['', 'A', '34', 'T', '53', 'GCGTG', '56', 'ACT', '23']\n",
      "['34', '53', '56', '23']\n",
      "['A', 'T', 'GCGTG', 'ACT']\n"
     ]
    }
   ],
   "source": [
    "dna = \"A34T53GCGTG56ACT23\"\n",
    "runs = re.split(\"[^ATGC]+\", dna) # split on characters ACGT \n",
    "print(runs)\n",
    "runs = re.split('(\\d+ |\\D+)', dna) # split on digits\n",
    "print(runs)\n",
    "runs = re.findall(\"[^ATCG]+\", dna)\n",
    "print(runs)\n",
    "runs = re.findall(\"(\\d+ |\\D+)\", dna)\n",
    "print(runs)"
   ]
  },
  {
   "cell_type": "markdown",
   "metadata": {},
   "source": [
    "Using a regex pattern we can revisit our function to calculate a protein sequence. We will compare the two functions"
   ]
  },
  {
   "cell_type": "code",
   "execution_count": 47,
   "metadata": {},
   "outputs": [
    {
     "name": "stdout",
     "output_type": "stream",
     "text": [
      "function 1 took 0.000237\n",
      "function 2 took 0.001331\n"
     ]
    }
   ],
   "source": [
    "import time\n",
    "def get_prot_seq2(infile):\n",
    "    file_connection = open(infile,\"r\")\n",
    "    seqs2 = file_connection.readlines() \n",
    "    file_connection.close()\n",
    "    seq_aligned = []\n",
    "    proteins_list=[]\n",
    "    for seq_iter in seqs2:\n",
    "        if seq_iter.strip().startswith('atg') and seq_iter.strip().endswith('taa') or seq_iter.strip().endswith('tag') or seq_iter.strip().endswith('tga'):\n",
    "            seq_aligned.append(seq_iter.strip())\n",
    "        elif reverse_complement(seq_iter.strip()).startswith('atg') and reverse_complement(seq_iter.strip()).endswith('taa') or reverse_complement(seq_iter.strip()).endswith('tag') or reverse_complement(seq_iter.strip()).endswith('tga'):\n",
    "            seq_aligned.append(reverse_complement(seq_iter.strip()))\n",
    "        else:\n",
    "            continue # if a sequence doesnt begin with atg dont process\n",
    "    for seq_iter2 in seq_aligned:\n",
    "        triplets = []\n",
    "        protein = []\n",
    "        triplets = re.findall(r'[^ACGT]{3}',seq_iter2)                              #for i in range(0, len(seq_iter2), 3):\n",
    "                                             #triplets.append(seq_iter2[i:i+3])\n",
    "        for trip in triplets:\n",
    "            protein.append(codons[trip])\n",
    "        proteins_list.append(\"\".join(protein))\n",
    "    return proteins_list\n",
    "\n",
    "# time new regex function\n",
    "start2 = time.clock()\n",
    "proteins_new = get_prot_seq2('seqs.txt')\n",
    "end2 = time.clock()\n",
    "\n",
    "# time original function\n",
    "start1= time.clock()\n",
    "proteins_orig = get_prot_seq('seqs.txt')\n",
    "end1 = time.clock()\n",
    "\n",
    "print(\"function 1 took {}\".format(end1-start1))\n",
    "print(\"function 2 took {}\".format(end2-start2))"
   ]
  },
  {
   "cell_type": "markdown",
   "metadata": {},
   "source": [
    "The regex function takes much longer to compute because it is search for defined pattern matches. The original function will make triplets regardless of what is in the string *i.e* non- ACGT included"
   ]
  },
  {
   "cell_type": "code",
   "execution_count": null,
   "metadata": {},
   "outputs": [],
   "source": []
  }
 ],
 "metadata": {
  "kernelspec": {
   "display_name": "Python 2",
   "language": "python",
   "name": "python2"
  },
  "language_info": {
   "codemirror_mode": {
    "name": "ipython",
    "version": 2
   },
   "file_extension": ".py",
   "mimetype": "text/x-python",
   "name": "python",
   "nbconvert_exporter": "python",
   "pygments_lexer": "ipython2",
   "version": "2.7.15"
  }
 },
 "nbformat": 4,
 "nbformat_minor": 2
}
